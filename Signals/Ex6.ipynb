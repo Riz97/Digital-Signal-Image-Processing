{
 "cells": [
  {
   "cell_type": "markdown",
   "id": "12101265-d9a5-4da7-955c-a39d6e57087d",
   "metadata": {},
   "source": [
    "# Digital Signal Image Processing Assignment - Wavelets"
   ]
  },
  {
   "cell_type": "markdown",
   "id": "c51e3dca-ee73-409a-b8de-ab8e3713d7cf",
   "metadata": {},
   "source": [
    "**Riccardo Caprile 4370774**"
   ]
  },
  {
   "cell_type": "markdown",
   "id": "ca11726e-2111-4341-a5ba-6ad388354b97",
   "metadata": {},
   "source": [
    "Description of the assignment : Compute the Haar wavelet transform of two 32-pixel image $I_{32}$ and $J_{32}$ using the appropriate analysis filters.\n",
    "\n",
    "Sample the 32 values forming $I_{32}$ uniformly from the set {0,1,...,255}.\n",
    "\n",
    "Sample the first 16t values forming $J_{32}$ uniformly from the set {24,25,26,27} and the second 16 values from the set {201,202,203,204}.\n",
    "\n",
    "In both cases compute the fraction of the detail coefficients larger than 1/100 and comment on the obtained results"
   ]
  },
  {
   "cell_type": "code",
   "execution_count": 14,
   "id": "aaa036f8-4cb9-4bd3-9c80-99b8cda283bc",
   "metadata": {},
   "outputs": [],
   "source": [
    "import numpy as np\n",
    "import matplotlib.pyplot as plt\n",
    "from pylab import rcParams\n",
    "rcParams['figure.figsize'] = 15, 5\n",
    "import pywt"
   ]
  },
  {
   "cell_type": "markdown",
   "id": "75279683-6cd9-442e-a89c-84f78b37577d",
   "metadata": {},
   "source": [
    "# Let's compute and plot $I_{32}$ and $J_{32}$"
   ]
  },
  {
   "cell_type": "code",
   "execution_count": 6,
   "id": "3cfbcd99-73a3-4535-9fc8-5971e2edf34c",
   "metadata": {},
   "outputs": [
    {
     "data": {
      "image/png": "[encoded data removed]",
      "text/plain": [
       "<Figure size 1080x360 with 1 Axes>"
      ]
     },
     "metadata": {
      "needs_background": "light"
     },
     "output_type": "display_data"
    }
   ],
   "source": [
    "#32-pixels image I_32 sampled uniformly from the set {0,1,...,255}\n",
    " \n",
    "I_32 = np.random.randint(0,256,32)\n",
    "\n",
    "plt.imshow([I_32],cmap = \"gray\")\n",
    "plt.title(\"32-pixels image I_32\")"
   ]
  },
  {
   "cell_type": "code",
   "execution_count": 12,
   "id": "0d2bdd92-3195-4b1e-b56e-42b46444cd24",
   "metadata": {},
   "outputs": [
    {
     "data": {
      "text/plain": [
       "Text(0.5, 1.0, '32-pixels image J_32')"
      ]
     },
     "execution_count": 12,
     "metadata": {},
     "output_type": "execute_result"
    },
    {
     "data": {
      "image/png": "[encoded data removed]",
      "text/plain": [
       "<Figure size 1080x360 with 1 Axes>"
      ]
     },
     "metadata": {
      "needs_background": "light"
     },
     "output_type": "display_data"
    }
   ],
   "source": [
    "#32-pixels image J_32 , the first 16 values sampled from the set{24,25,26,27} and the second 16 values from the set {201,202,203,204}\n",
    " \n",
    "J_32 = np.concatenate((np.random.randint(24,28,size = (16,)),np.random.randint(201,205,size = (16,))))\n",
    "\n",
    "plt.imshow([J_32],cmap = \"gray\")\n",
    "plt.title(\"32-pixels image J_32\")"
   ]
  },
  {
   "cell_type": "markdown",
   "id": "8d443da1-c5c7-4c1b-ae2c-4cc38c53fb17",
   "metadata": {},
   "source": [
    "# Single Level Discrete Wavelet Transform"
   ]
  },
  {
   "cell_type": "markdown",
   "id": "bb69f4e3-7da3-415c-b2a6-882d85264d2f",
   "metadata": {},
   "source": [
    "Let's do the single level decomposition for $I_{32}$"
   ]
  },
  {
   "cell_type": "code",
   "execution_count": 15,
   "id": "739ae855-3272-4952-a2c1-4e3d463c84f6",
   "metadata": {},
   "outputs": [
    {
     "name": "stdout",
     "output_type": "stream",
     "text": [
      "Coefficients with lower resolution are : [169.70562748 211.42492757  41.01219331 197.28279195 283.54981926\n",
      " 213.54624792 156.27059864 125.15790027  21.21320344 166.17009358\n",
      " 188.0904038  197.98989873 178.19090886 198.69700551 260.92240226\n",
      " 210.71782079]\n",
      "Detail coefficients are: [-152.73506474   26.1629509   -36.76955262   50.20458146  -61.51828996\n",
      "   52.32590181 -126.57211383  109.60155108   11.3137085   132.22896808\n",
      "   24.04163056  -48.08326112   69.29646456    6.36396103   48.7903679\n",
      "   28.28427125]\n"
     ]
    }
   ],
   "source": [
    "I_cA , I_cD = pywt.dwt(I_32,\"haar\") #Approximation and Detail coefficients\n",
    "\n",
    "print(\"Coefficients with lower resolution are :\" , I_cA)\n",
    "print(\"Detail coefficients are:\" , I_cD)"
   ]
  },
  {
   "cell_type": "markdown",
   "id": "504be95a-f58e-4c1f-ac46-481c1e941053",
   "metadata": {},
   "source": [
    "and now Let's do the single level decomposition for $J_{32}$"
   ]
  },
  {
   "cell_type": "code",
   "execution_count": 16,
   "id": "bb9a6592-1640-41cf-bb66-a30f17418e03",
   "metadata": {},
   "outputs": [
    {
     "name": "stdout",
     "output_type": "stream",
     "text": [
      "Coefficients with lower resolution are : [ 35.35533906  35.35533906  34.64823228  35.35533906  33.9411255\n",
      "  36.76955262  35.35533906  36.06244584 284.96403282 286.37824638\n",
      " 286.37824638 287.08535316 287.79245994 285.6711396  286.37824638\n",
      " 286.37824638]\n",
      "Detail coefficients are: [-1.41421356  1.41421356  0.70710678  0.          0.         -1.41421356\n",
      " -1.41421356  2.12132034 -0.70710678 -0.70710678  2.12132034 -1.41421356\n",
      " -0.70710678 -1.41421356 -2.12132034  0.70710678]\n"
     ]
    }
   ],
   "source": [
    "J_cA , J_cD = pywt.dwt(J_32,\"haar\") #Approximation and Detail coefficients\n",
    "\n",
    "print(\"Coefficients with lower resolution are :\" , J_cA)\n",
    "print(\"Detail coefficients are:\" , J_cD)"
   ]
  },
  {
   "cell_type": "markdown",
   "id": "ea766d7f-f4b0-4b21-aec1-9780056513a6",
   "metadata": {},
   "source": [
    "# Let's Reconstruct the two images for verifying everything was correct"
   ]
  },
  {
   "cell_type": "markdown",
   "id": "2f58dc9f-b481-4acc-a3f0-477e2c6140c5",
   "metadata": {},
   "source": [
    "Comparing the two 32-pixels images we can see that everything was correct"
   ]
  },
  {
   "cell_type": "code",
   "execution_count": 24,
   "id": "4b414f0b-2ec8-4f49-b32a-da49c8c9cb60",
   "metadata": {},
   "outputs": [
    {
     "data": {
      "image/png": "[encoded data removed]",
      "text/plain": [
       "<Figure size 1080x360 with 1 Axes>"
      ]
     },
     "metadata": {
      "needs_background": "light"
     },
     "output_type": "display_data"
    },
    {
     "data": {
      "text/plain": [
       "Text(0.5, 1.0, '32-pixels image I_32')"
      ]
     },
     "execution_count": 24,
     "metadata": {},
     "output_type": "execute_result"
    },
    {
     "data": {
      "image/png": "[encoded data removed]",
      "text/plain": [
       "<Figure size 1080x360 with 1 Axes>"
      ]
     },
     "metadata": {
      "needs_background": "light"
     },
     "output_type": "display_data"
    }
   ],
   "source": [
    "#Reconstruction of I_32\n",
    "\n",
    "I_32_Reconstructed = pywt.idwt(I_cA,I_cD,\"haar\")\n",
    "\n",
    "plt.imshow([I_32_Reconstructed],cmap = \"gray\")\n",
    "plt.title(\"I_32 Reconstructed\")\n",
    "plt.show()\n",
    "plt.imshow([I_32],cmap = \"gray\")\n",
    "plt.title(\"32-pixels image I_32\")"
   ]
  },
  {
   "cell_type": "code",
   "execution_count": 25,
   "id": "15c13c18-31db-427b-bf01-1d5c83ecdf42",
   "metadata": {},
   "outputs": [
    {
     "data": {
      "image/png": "[encoded data removed]",
      "text/plain": [
       "<Figure size 1080x360 with 1 Axes>"
      ]
     },
     "metadata": {
      "needs_background": "light"
     },
     "output_type": "display_data"
    },
    {
     "data": {
      "text/plain": [
       "Text(0.5, 1.0, '32-pixels image J_32')"
      ]
     },
     "execution_count": 25,
     "metadata": {},
     "output_type": "execute_result"
    },
    {
     "data": {
      "image/png": "[encoded data removed]",
      "text/plain": [
       "<Figure size 1080x360 with 1 Axes>"
      ]
     },
     "metadata": {
      "needs_background": "light"
     },
     "output_type": "display_data"
    }
   ],
   "source": [
    "#Reconstruction of J_32\n",
    "\n",
    "J_32_Reconstructed = pywt.idwt(J_cA,J_cD,\"haar\")\n",
    "\n",
    "plt.imshow([J_32_Reconstructed],cmap = \"gray\")\n",
    "plt.title(\"J_32 Reconstructed\")\n",
    "plt.show()\n",
    "plt.imshow([J_32],cmap = \"gray\")\n",
    "plt.title(\"32-pixels image J_32\")"
   ]
  },
  {
   "cell_type": "markdown",
   "id": "582fe179-df87-4cc1-9405-febe4a61c144",
   "metadata": {},
   "source": [
    "At lessons we have seen that the first coefficients is the average between the first and the second pixel of the image , the second coefficient is the average between the third and fourth pixel and so on. But the pywt library does something different. During the decomposition it multiply the average by a $1/\\sqrt 2$ for making the Haar wavelets orthonormal. We can verify this easily"
   ]
  },
  {
   "cell_type": "code",
   "execution_count": null,
   "id": "0a500d90-5eb5-46df-953d-d75c755c493b",
   "metadata": {},
   "outputs": [
    {
     "name": "stdout",
     "output_type": "stream",
     "text": [
      "average =  120.0 and decomposition = 120.00000000000001\n"
     ]
    }
   ],
   "source": [
    "av = (I_32[0] + I_32[1]) /2 #compute the average of the first two pixels\n",
    "\n",
    "print(\"average = \",av, \"and decomposition =\",I_cA[0]/np.sqrt(2))"
   ]
  },
  {
   "cell_type": "markdown",
   "id": "cb3eab8d-5424-4d62-90a4-195cbfa89033",
   "metadata": {},
   "source": [
    "# Let's decompose $I_{32}$ and $J_{32}$ multiple times "
   ]
  },
  {
   "cell_type": "markdown",
   "id": "01cde587-62c0-40a1-a418-2e4a431f18af",
   "metadata": {},
   "source": [
    "For decomposing an image multiple times pywt provides a function where you can decide how many times you want to decompose it"
   ]
  },
  {
   "cell_type": "code",
   "execution_count": 41,
   "id": "67443905-2a7d-405b-a421-390541a55c58",
   "metadata": {},
   "outputs": [],
   "source": [
    "I_cA5 ,I_cD5 , I_cD4 , I_cD3 , I_cD2, I_cD1  = pywt.wavedec(I_32,\"haar\",level = 5)"
   ]
  },
  {
   "cell_type": "code",
   "execution_count": 45,
   "id": "90be700e-2ea1-42ca-b69a-1fb5d4c6a682",
   "metadata": {},
   "outputs": [
    {
     "name": "stdout",
     "output_type": "stream",
     "text": [
      "[704.98546084]\n",
      "[-6.01040764] Resolution = 1\n",
      "[-56.25 -97.25] Resolution = 2\n",
      "[ 71.4177849  107.83378413 -99.34850276 -47.37615434] Resolution = 4\n",
      "[ -29.5 -110.5   49.5   22.  -102.5   -7.   -14.5   35.5] Resolution = 8\n",
      "[-152.73506474   26.1629509   -36.76955262   50.20458146  -61.51828996\n",
      "   52.32590181 -126.57211383  109.60155108   11.3137085   132.22896808\n",
      "   24.04163056  -48.08326112   69.29646456    6.36396103   48.7903679\n",
      "   28.28427125] Resolution = 16\n"
     ]
    }
   ],
   "source": [
    "print(I_cA5)\n",
    "print(I_cD5, \"Resolution =\",I_cD5.size)\n",
    "print(I_cD4, \"Resolution =\",I_cD4.size)\n",
    "print(I_cD3, \"Resolution =\",I_cD3.size)\n",
    "print(I_cD2, \"Resolution =\",I_cD2.size)\n",
    "print(I_cD1, \"Resolution =\",I_cD1.size)"
   ]
  },
  {
   "cell_type": "markdown",
   "id": "f7914715-cad7-4905-8071-519478654496",
   "metadata": {},
   "source": [
    "**Now we can compute the fraction of the details coefficients larger than 1/100** "
   ]
  },
  {
   "cell_type": "code",
   "execution_count": 46,
   "id": "9dd326ae-83f4-4877-855c-6f6f2e1c8d3e",
   "metadata": {},
   "outputs": [],
   "source": [
    "dc_I_32 = np.concatenate((I_cD5 , I_cD4 , I_cD3 , I_cD2, I_cD1))"
   ]
  },
  {
   "cell_type": "code",
   "execution_count": 47,
   "id": "cb1ee8b3-a0e9-4fd8-99ad-136a1cda2b1b",
   "metadata": {},
   "outputs": [],
   "source": [
    "filter_dc_I_32 = [i for i in np.abs(dc_I_32) if i > 1/100]"
   ]
  },
  {
   "cell_type": "code",
   "execution_count": 50,
   "id": "a6712273-6269-49f4-a9a6-4e6e4988af22",
   "metadata": {},
   "outputs": [
    {
     "name": "stdout",
     "output_type": "stream",
     "text": [
      "1.0\n"
     ]
    }
   ],
   "source": [
    "Fraction = len(filter_dc_I_32)/len(dc_I_32)\n",
    "print(Fraction)"
   ]
  },
  {
   "cell_type": "markdown",
   "id": "8cfbd8d5-fb4e-46ee-9d98-c3ca894dfd1a",
   "metadata": {},
   "source": [
    "The last step , as we have done before , is to reconstruct the multilevel decomposed image"
   ]
  },
  {
   "cell_type": "code",
   "execution_count": 55,
   "id": "cc540de7-d763-4a36-87c3-8ad6e7b88d7e",
   "metadata": {},
   "outputs": [],
   "source": [
    "I_coeff = I_cA5 ,I_cD5 , I_cD4 , I_cD3 , I_cD2, I_cD1 "
   ]
  },
  {
   "cell_type": "code",
   "execution_count": 56,
   "id": "2ce7ce61-f163-4261-80b6-fc62cb74d1ff",
   "metadata": {},
   "outputs": [
    {
     "data": {
      "image/png": "[encoded data removed]",
      "text/plain": [
       "<Figure size 1080x360 with 1 Axes>"
      ]
     },
     "metadata": {
      "needs_background": "light"
     },
     "output_type": "display_data"
    },
    {
     "data": {
      "text/plain": [
       "Text(0.5, 1.0, '32-pixels image I_32')"
      ]
     },
     "execution_count": 56,
     "metadata": {},
     "output_type": "execute_result"
    },
    {
     "data": {
      "image/png": "[encoded data removed]",
      "text/plain": [
       "<Figure size 1080x360 with 1 Axes>"
      ]
     },
     "metadata": {
      "needs_background": "light"
     },
     "output_type": "display_data"
    }
   ],
   "source": [
    "#Reconstruction of I_32\n",
    "\n",
    "I_32_Reconstructed = pywt.waverec(I_coeff,\"haar\")\n",
    "\n",
    "plt.imshow([I_32_Reconstructed],cmap = \"gray\")\n",
    "plt.title(\"I_32 Reconstructed\")\n",
    "plt.show()\n",
    "plt.imshow([I_32],cmap = \"gray\")\n",
    "plt.title(\"32-pixels image I_32\")"
   ]
  },
  {
   "cell_type": "markdown",
   "id": "85025603-bb86-4d88-bdec-eaed2373b3da",
   "metadata": {},
   "source": [
    "Now, we have to follow the same steps for $J_{32}$"
   ]
  },
  {
   "cell_type": "code",
   "execution_count": 58,
   "id": "10fd4226-d297-458f-af31-1c0aa235ec56",
   "metadata": {},
   "outputs": [],
   "source": [
    "J_cA5 ,J_cD5 , J_cD4 , J_cD3 , J_cD2, J_cD1  = pywt.wavedec(J_32,\"haar\",level = 5)"
   ]
  },
  {
   "cell_type": "code",
   "execution_count": 59,
   "id": "88aba32e-2c63-41da-8fcc-a28fc41ebf3a",
   "metadata": {},
   "outputs": [
    {
     "name": "stdout",
     "output_type": "stream",
     "text": [
      "[704.98546084]\n",
      "[-6.01040764] Resolution = 1\n",
      "[-56.25 -97.25] Resolution = 2\n",
      "[ 71.4177849  107.83378413 -99.34850276 -47.37615434] Resolution = 4\n",
      "[ -29.5 -110.5   49.5   22.  -102.5   -7.   -14.5   35.5] Resolution = 8\n",
      "[-152.73506474   26.1629509   -36.76955262   50.20458146  -61.51828996\n",
      "   52.32590181 -126.57211383  109.60155108   11.3137085   132.22896808\n",
      "   24.04163056  -48.08326112   69.29646456    6.36396103   48.7903679\n",
      "   28.28427125] Resolution = 16\n"
     ]
    }
   ],
   "source": [
    "print(I_cA5)\n",
    "print(I_cD5, \"Resolution =\",I_cD5.size)\n",
    "print(I_cD4, \"Resolution =\",I_cD4.size)\n",
    "print(I_cD3, \"Resolution =\",I_cD3.size)\n",
    "print(I_cD2, \"Resolution =\",I_cD2.size)\n",
    "print(I_cD1, \"Resolution =\",I_cD1.size)"
   ]
  },
  {
   "cell_type": "code",
   "execution_count": 60,
   "id": "13398835-7c43-4417-86d2-9254d5ce4d4b",
   "metadata": {},
   "outputs": [],
   "source": [
    "dc_J_32 = np.concatenate((J_cD5 , J_cD4 , J_cD3 , J_cD2, J_cD1))"
   ]
  },
  {
   "cell_type": "code",
   "execution_count": 61,
   "id": "0db0cc25-2cf5-4425-b15e-6beada7a93bd",
   "metadata": {},
   "outputs": [],
   "source": [
    "filter_dc_J_32 = [i for i in np.abs(dc_J_32) if i > 1/100]"
   ]
  },
  {
   "cell_type": "code",
   "execution_count": 66,
   "id": "23ab935d-8c7b-4ddf-9722-4a5f32b4c1f7",
   "metadata": {},
   "outputs": [
    {
     "name": "stdout",
     "output_type": "stream",
     "text": [
      "1.0\n"
     ]
    }
   ],
   "source": [
    "Fraction = len(filter_dc_I_32)/len(dc_I_32)\n",
    "print(Fraction)"
   ]
  },
  {
   "cell_type": "code",
   "execution_count": 68,
   "id": "697573c7-4292-4336-8ca0-625b2fbb8ee8",
   "metadata": {},
   "outputs": [],
   "source": [
    "J_coeff = J_cA5 ,J_cD5 , J_cD4 , J_cD3 , J_cD2, J_cD1 "
   ]
  },
  {
   "cell_type": "code",
   "execution_count": 69,
   "id": "9d3be4e0-4bb4-4a6a-8c3c-9480666619ae",
   "metadata": {},
   "outputs": [
    {
     "data": {
      "image/png": "[encoded data removed]",
      "text/plain": [
       "<Figure size 1080x360 with 1 Axes>"
      ]
     },
     "metadata": {
      "needs_background": "light"
     },
     "output_type": "display_data"
    },
    {
     "data": {
      "text/plain": [
       "Text(0.5, 1.0, '32-pixels image J_32')"
      ]
     },
     "execution_count": 69,
     "metadata": {},
     "output_type": "execute_result"
    },
    {
     "data": {
      "image/png": "[encoded data removed]",
      "text/plain": [
       "<Figure size 1080x360 with 1 Axes>"
      ]
     },
     "metadata": {
      "needs_background": "light"
     },
     "output_type": "display_data"
    }
   ],
   "source": [
    "#Reconstruction of J_32\n",
    "\n",
    "J_32_Reconstructed = pywt.waverec(J_coeff,\"haar\")\n",
    "\n",
    "plt.imshow([I_32_Reconstructed],cmap = \"gray\")\n",
    "plt.title(\"J_32 Reconstructed\")\n",
    "plt.show()\n",
    "plt.imshow([I_32],cmap = \"gray\")\n",
    "plt.title(\"32-pixels image J_32\")"
   ]
  },
  {
   "cell_type": "code",
   "execution_count": null,
   "id": "7c5409dc-501f-476b-b312-916c4b57662b",
   "metadata": {},
   "outputs": [],
   "source": []
  }
 ],
 "metadata": {
  "kernelspec": {
   "display_name": "Python 3 (ipykernel)",
   "language": "python",
   "name": "python3"
  },
  "language_info": {
   "codemirror_mode": {
    "name": "ipython",
    "version": 3
   },
   "file_extension": ".py",
   "mimetype": "text/x-python",
   "name": "python",
   "nbconvert_exporter": "python",
   "pygments_lexer": "ipython3",
   "version": "3.9.12"
  },
  "widgets": {
   "application/vnd.jupyter.widget-state+json": {
    "state": {},
    "version_major": 2,
    "version_minor": 0
   }
  }
 },
 "nbformat": 4,
 "nbformat_minor": 5
}
